{
 "cells": [
  {
   "cell_type": "code",
   "execution_count": 28,
   "id": "bc8e5f21",
   "metadata": {
    "scrolled": true
   },
   "outputs": [],
   "source": [
    "import cv2\n",
    "from matplotlib import pyplot as pt\n",
    "import time\n",
    "import numpy as np\n",
    "from tensorflow import keras\n",
    "import pickle"
   ]
  },
  {
   "cell_type": "code",
   "execution_count": 40,
   "id": "ae3337b4",
   "metadata": {},
   "outputs": [],
   "source": [
    "# cap = cv2.VideoCapture(0) #0 is video capture device\n",
    "# ret, frame = cap.read()\n",
    "# pt.imshow(frame)\n",
    "labels = []\n",
    "with open('labels.pkl', 'rb') as f:\n",
    "    labels = pickle.load(f)\n",
    "model = keras.models.load_model('test_model/model')\n",
    "input_shape_model = tuple([int(x) for x in model.input.shape[1:]])\n",
    "font = cv2.FONT_HERSHEY_SIMPLEX\n",
    "  \n",
    "# org\n",
    "org = (00, 185)\n",
    "  \n",
    "# fontScale\n",
    "fontScale = 1\n",
    "   \n",
    "# Red color in BGR\n",
    "color = (0, 0, 255)\n",
    "  \n",
    "# Line thickness of 2 px\n",
    "thickness = 2"
   ]
  },
  {
   "cell_type": "code",
   "execution_count": 54,
   "id": "0b152c7f",
   "metadata": {},
   "outputs": [],
   "source": [
    "#release the capture\n",
    "#cap.release()\n",
    "def predict(gray_image):\n",
    "    X_test = cv2.resize(gray_image, (48, 48))\n",
    "    #cv2.imshow('Processed',X_test)\n",
    "    X_test = X_test/255.\n",
    "    #plt.show(X_test)\n",
    "    a3d = np.expand_dims(X_test, axis=2)\n",
    "    X_test = np.array(a3d).reshape((-1,) + input_shape_model)\n",
    "    #print(X_test.shape)\n",
    "    pred = model.predict(X_test,verbose=0)\n",
    "    classes = labels[pred.argmax()]\n",
    "    return str(classes)"
   ]
  },
  {
   "cell_type": "code",
   "execution_count": 55,
   "id": "6387f37f",
   "metadata": {
    "scrolled": false
   },
   "outputs": [],
   "source": [
    "cap = cv2.VideoCapture(0)\n",
    "prev_snap = 0\n",
    "emotion=\"Neutral\"\n",
    "while cap.isOpened():\n",
    "    snap_time = time.time()\n",
    "    ret, frame = cap.read()\n",
    "    if snap_time - prev_snap > 0.2:\n",
    "        gray_image = cv2.cvtColor(frame ,cv2.COLOR_BGR2GRAY)\n",
    "        emotion = predict(gray_image)\n",
    "        prev_snap = time.time()\n",
    "    image = cv2.putText(frame, emotion, org, font, fontScale, color, thickness, cv2.LINE_AA)\n",
    "    cv2.imshow('Webcam',image)\n",
    "    if cv2.waitKey(1) & 0xFF == ord('q'):\n",
    "        break\n",
    "end = time.time()\n",
    "cv2.destroyAllWindows()\n",
    "cap.release()"
   ]
  },
  {
   "cell_type": "code",
   "execution_count": null,
   "id": "c45e6d50",
   "metadata": {},
   "outputs": [],
   "source": []
  },
  {
   "cell_type": "code",
   "execution_count": null,
   "id": "2028deee",
   "metadata": {},
   "outputs": [],
   "source": []
  }
 ],
 "metadata": {
  "kernelspec": {
   "display_name": "Python 3 (ipykernel)",
   "language": "python",
   "name": "python3"
  },
  "language_info": {
   "codemirror_mode": {
    "name": "ipython",
    "version": 3
   },
   "file_extension": ".py",
   "mimetype": "text/x-python",
   "name": "python",
   "nbconvert_exporter": "python",
   "pygments_lexer": "ipython3",
   "version": "3.9.0"
  }
 },
 "nbformat": 4,
 "nbformat_minor": 5
}
